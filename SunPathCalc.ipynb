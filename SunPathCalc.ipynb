{
 "cells": [
  {
   "cell_type": "code",
   "execution_count": 1,
   "id": "spatial-bangkok",
   "metadata": {
    "tags": []
   },
   "outputs": [],
   "source": [
    "# Imports\n",
    "# for interactive\n",
    "%matplotlib widget\n",
    "# for printing\n",
    "# %matplotlib inline \n",
    "import matplotlib.pyplot as plt\n",
    "import datetime\n",
    "import numpy as np\n",
    "import pandas as pd\n",
    "from pvlib import solarposition, location\n",
    "from IPython.display import Markdown, Image, display, HTML\n",
    "import ipywidgets as wds\n",
    "wds.interact_manual.opts['manual_name'] = 'Plot Sun Path'\n",
    "plt.ion()\n",
    "#plt.style.use('seaborn-whitegrid')"
   ]
  },
  {
   "cell_type": "markdown",
   "id": "sitting-probe",
   "metadata": {},
   "source": [
    "<img src=\"img/logo_DENERG.png\" alt=\"Drawing\" style=\"width: 80px;\"/><img src=\"img/Polito_Logo_2021_BLU.png\" alt=\"Drawing\" style=\"width: 200px;\"/>\n"
   ]
  },
  {
   "cell_type": "markdown",
   "id": "accessory-scholar",
   "metadata": {},
   "source": [
    "# Sun Path Diagram"
   ]
  },
  {
   "cell_type": "markdown",
   "id": "difficult-tulsa",
   "metadata": {},
   "source": [
    "Notebook interattivo per il calcolo della posizione del sole e visualizzazione su diagramma polare."
   ]
  },
  {
   "cell_type": "markdown",
   "id": "straight-arkansas",
   "metadata": {},
   "source": [
    ">Le versioni interattive dei notebook le trovate su [![Binder](https://mybinder.org/badge_logo.svg)](https://mybinder.org/v2/gh/DSSchiera/materials/HEAD)."
   ]
  },
  {
   "cell_type": "code",
   "execution_count": 2,
   "id": "conventional-rebel",
   "metadata": {
    "jupyter": {
     "source_hidden": true
    },
    "tags": []
   },
   "outputs": [],
   "source": [
    "# Solar Chart:"
   ]
  },
  {
   "cell_type": "code",
   "execution_count": 3,
   "id": "fatty-administration",
   "metadata": {
    "jupyter": {
     "source_hidden": true
    },
    "tags": [
     "remove_input"
    ]
   },
   "outputs": [],
   "source": [
    "# Dati default\n",
    "L = 45 # Lat [°]\n",
    "l_local = -7.68 # Long [°]\n",
    "l_st = -15 # long standard [°]\n",
    "data = '2021-03-26 10:00' # '2021-03-26 10:00'\n",
    "col = 0 # 1 se ora legale, altrimenti 0. Per il 2021, l'ora legale è attiva dal 28 Marzo al 31 ottobre.\n",
    "ora = pd.to_datetime(data).hour+pd.to_datetime(data).minute/60 # [h] in ore decimali\n",
    "# Dati ricavati\n",
    "n = pd.to_datetime(data).dayofyear # Numero identificativo del giorno in esame rispetto l'anno "
   ]
  },
  {
   "cell_type": "code",
   "execution_count": 4,
   "id": "arabic-campus",
   "metadata": {
    "jupyter": {
     "source_hidden": true
    },
    "tags": [
     "remove_input"
    ]
   },
   "outputs": [],
   "source": [
    "# # Sun path diagram per una determinata località\n",
    "# L1 = wds.BoundedFloatText(\n",
    "#     value=45,\n",
    "#     min=-90,\n",
    "#     max=90,\n",
    "#     step=0.01,\n",
    "#     description='Latitude:',\n",
    "#      disabled=False,\n",
    "# )\n",
    "# l_local1 = wds.BoundedFloatText(\n",
    "#     value=-7.68,\n",
    "#     min=-90,\n",
    "#     max=90,\n",
    "#     step=0.01,\n",
    "#     description='Longitude:',\n",
    "#     disabled=False,\n",
    "# )\n",
    "# # l_st1 = wds.BoundedFloatText(\n",
    "# #     value=-15,\n",
    "# #     min=-90,\n",
    "# #     max=90,\n",
    "# #     step=0.01,\n",
    "# #     description='Long. ref.:',\n",
    "# #      disabled=False,\n",
    "# # )\n",
    "# @wds.interact_manual(L=L1,l_local=l_local1)\n",
    "# def plot_sunpath(L=L1,l_local=l_local1):\n",
    "#     # Per semplicità, utilizzare l'ora locale (non considerando l'ora legale) senza definire la time zone (anche se siamo sempre in CET UTC+1 e CEST UTC+2 nel caso in esame)\n",
    "#     year = 2021\n",
    "#     # range di un anno\n",
    "#     times = pd.date_range(f'{year}-01-01 00:00:00', f'{year+1}-01-01', closed='left', freq='H', tz='UTC')\n",
    "#     # calcolo posizione solare\n",
    "#     solpos = solarposition.get_solarposition(times, L, l_local, method='ephemeris') # lo converte sempre in UTC\n",
    "#     # rimuovi la notte\n",
    "#     solpos = solpos.loc[solpos['elevation'] > 0, :]\n",
    "\n",
    "#     # Sun path\n",
    "#     plt.close()\n",
    "#     fig1 = plt.figure(figsize=(10,6))\n",
    "#     fig1.canvas.header_visible = False\n",
    "#     ax1 = plt.subplot(1, 1, 1, projection='polar',label='sunpath')\n",
    "#     # cambio del riferimento della coordinata theta\n",
    "#     corr = -180\n",
    "#     # Disegno analemmi\n",
    "#     points = ax1.scatter(np.radians(solpos.azimuth + corr), solpos.zenith,s=2, label=None, c=solpos.index.dayofyear)\n",
    "#     ax1.figure.colorbar(points,label='n - day of the year')\n",
    "\n",
    "#     # Disegno labels delle ore\n",
    "#     for hour in np.unique(solpos.index.hour):\n",
    "#         # choose label position by the smallest radius for each hour\n",
    "#         subset = solpos.loc[solpos.index.hour == hour, :]\n",
    "#         r = subset.zenith\n",
    "#         pos = solpos.loc[r.idxmin(), :]\n",
    "#         ax1.text(np.radians(pos['azimuth'] + corr), pos['zenith'], str(hour))\n",
    "\n",
    "#     # Disengno sun path particolari (soltizi ed equinozi)\n",
    "#     # Info 2021: Solstizio 21 giugno 03:32 Solstizio 21 dicembre 15:59 Equinozio 20 marzo 09:37 Equinozio 22 settembre 19:21\n",
    "#     days = {'2020-06-21':23.45, '2020-03-20':0, '2020-12-21':-23.45}\n",
    "#     for date in pd.to_datetime(list(days.keys())):\n",
    "#         times = pd.date_range(date, date + pd.Timedelta('24h'), freq='5min', tz='UTC')\n",
    "#         solpos = solarposition.get_solarposition(times, L, l_local)\n",
    "#         solpos = solpos.loc[solpos['elevation'] > 0, :]\n",
    "#         label = date.strftime('%m-%d')\n",
    "#         d = date.strftime('%Y-%m-%d')\n",
    "#         ax1.plot(np.radians(solpos.azimuth + corr), solpos.zenith, label=label+f' $\\delta_s \\simeq$ {days[d]}°')\n",
    "\n",
    "#     ax1.figure.legend(loc='upper left')\n",
    "\n",
    "#     ax1.set_title(f'Sun path diagram. LAT {L}° LON {l_local}°')\n",
    "#     # cambio coordinate\n",
    "#     theta_labels = list(np.linspace(0,180,18,endpoint=False,dtype='int'))+list(np.linspace(-180,0,18,endpoint=False,dtype='int'))\n",
    "#     theta_labels = [f'{str(elem)}°' for elem in theta_labels]\n",
    "#     ax1.set_theta_zero_location('S')\n",
    "#     ax1.set_theta_direction(-1)\n",
    "#     ax1.set_rmax(90)\n",
    "#     ax1.set_rlabel_position(140)\n",
    "#     ax1.set_thetagrids(np.linspace(0,360,36, endpoint=False),labels=theta_labels)\n",
    "#     ax1.figure.text(0.535, 0.025, '$a_s$', fontsize=12,\n",
    "#             verticalalignment='top')\n",
    "#     ax1.figure.text(0.42, 0.83, r'$\\theta$', fontsize=12,\n",
    "#             verticalalignment='top')\n",
    "#     fig1.tight_layout()"
   ]
  },
  {
   "cell_type": "markdown",
   "id": "demanding-intent",
   "metadata": {},
   "source": [
    "## Sun position:"
   ]
  },
  {
   "cell_type": "code",
   "execution_count": 5,
   "id": "affected-trail",
   "metadata": {
    "jupyter": {
     "source_hidden": true
    },
    "tags": [
     "remove_input"
    ]
   },
   "outputs": [
    {
     "data": {
      "application/vnd.jupyter.widget-view+json": {
       "model_id": "0c22d587f5d84d9cb8039f17fa6be997",
       "version_major": 2,
       "version_minor": 0
      },
      "text/plain": [
       "interactive(children=(BoundedFloatText(value=45.0, description='Latitude:', max=90.0, min=-90.0, step=0.01), B…"
      ]
     },
     "metadata": {},
     "output_type": "display_data"
    }
   ],
   "source": [
    "#### Posizione sole con dati input\n",
    "L = wds.BoundedFloatText(\n",
    "    value=45,\n",
    "    min=-90,\n",
    "    max=90,\n",
    "    step=0.01,\n",
    "    description='Latitude:',\n",
    "     disabled=False,\n",
    ")\n",
    "l_local = wds.BoundedFloatText(\n",
    "    value=-7.68,\n",
    "    min=-90,\n",
    "    max=90,\n",
    "    step=0.01,\n",
    "    description='Longitude:',\n",
    "    disabled=False,\n",
    ")\n",
    "# l_st = wds.BoundedFloatText(\n",
    "#     value=-15,\n",
    "#     min=-90,\n",
    "#     max=90,\n",
    "#     step=0.01,\n",
    "#     description='Long. ref.:',\n",
    "#      disabled=False,\n",
    "# )\n",
    "day = wds.BoundedIntText(\n",
    "    value=26,\n",
    "    min=1,\n",
    "    max=31,\n",
    "    step=1,\n",
    "    description='Giorno:',\n",
    "     disabled=False,\n",
    ")\n",
    "month = wds.BoundedIntText(\n",
    "    value=3,\n",
    "    min=1,\n",
    "    max=12,\n",
    "    step=1,\n",
    "    description='Mese:',\n",
    "     disabled=False,\n",
    ")\n",
    "year= wds.BoundedIntText(\n",
    "    value=2021,\n",
    "    min=2010,\n",
    "    max=2030,\n",
    "    step=1,\n",
    "    description='Anno:',\n",
    "     disabled=False,\n",
    ")\n",
    "hour= wds.BoundedIntText(\n",
    "    value=10,\n",
    "    min=0,\n",
    "    max=24,\n",
    "    step=1,\n",
    "    description='Ore:',\n",
    "     disabled=False,\n",
    ")\n",
    "minute= wds.BoundedIntText(\n",
    "    value=0,\n",
    "    min=0,\n",
    "    max=60,\n",
    "    step=1,\n",
    "    description='Minuti:',\n",
    "     disabled=False,\n",
    ")\n",
    "data = wds.Text(\n",
    "    value='2021-03-26 10:00',\n",
    "    placeholder='YYY-MM-DD HH:MM',\n",
    "    description='Date:',\n",
    "    disabled=False\n",
    ")\n",
    "col = wds.Checkbox(\n",
    "    value=False,\n",
    "    description='Ora legale',\n",
    "    disabled=False,\n",
    ")\n",
    "# wds.jslink((L1, 'value'), (L, 'value'))\n",
    "# wds.jslink((l_st1, 'value'), (l_st, 'value'))\n",
    "# wds.jslink((l_local1, 'value'), (l_local, 'value'))\n",
    "\n",
    "@wds.interact(L=L,l_local=l_local,year=year,month=month,day=day,hour=hour,minute=minute,col=col)\n",
    "def plot_solarpos(L=L,l_local=l_local,year=year,month=month,day=day,hour=hour,minute=minute,col=col):\n",
    "    data = pd.to_datetime(datetime.datetime(year,month,day,hour,minute))\n",
    "    n = data.dayofyear\n",
    "    col = int(col)\n",
    "    declination = solarposition.declination_cooper69(n) * 180 / np.pi # gradi, stessa formula usata a lezione\n",
    "    time = data-pd.Timedelta(hours=col) # per correggere ora legale\n",
    "    ETl = pd.to_timedelta(np.array(solarposition.equation_of_time_pvcdrom(n)), unit='minutes')\n",
    "    solar_timel = time + ETl + pd.Timedelta(minutes=(l_st - l_local) * 4) # da verificare UTC\n",
    "\n",
    "    pos = solarposition.get_solarposition(time, L, l_local, method='ephemeris')\n",
    "    azimuthl = pos.azimuth[0]\n",
    "    zenithl = pos.zenith[0]\n",
    "    # print(pos.iloc[0])\n",
    "    # print(ET.total_seconds() / 60)\n",
    "    # print(solar_time)\n",
    "    plt.close()\n",
    "    fig2 = plt.figure(figsize=(10,6))\n",
    "    fig2.canvas.header_visible = False\n",
    "    ax2 = plt.subplot(1, 1, 1, projection='polar', label='pos')\n",
    "    # cambio del riferimento della coordinata theta per il grafico\n",
    "    corr = -180\n",
    "    # Analemma per l'ora in esame \n",
    "    times = pd.date_range(time,time +pd.Timedelta(days=364),freq='D', tz='UTC')\n",
    "    solpos = solarposition.get_solarposition(times, L, l_local, method='ephemeris')  # lo converte in UTC\n",
    "    # remove nighttime\n",
    "    solpos = solpos.loc[solpos['elevation'] > 0, :]\n",
    "    points = ax2.scatter(np.radians(solpos.azimuth + corr), solpos.zenith, s=2, label=None,c=np.unique(solpos.index.dayofyear))\n",
    "    ax2.figure.colorbar(points, label = f'n = {n}')\n",
    "    # Posizione sole\n",
    "    ax2.scatter(np.radians(pos.azimuth + corr),pos.zenith, s=40, label=None, c='red')\n",
    "    # Ora posizione\n",
    "    r = solpos.zenith\n",
    "    postext = solpos.loc[r.idxmin(), :]\n",
    "    ax2.text(np.radians(postext['azimuth'] + corr), postext['zenith'], time.strftime('%H:%M'))\n",
    "    # Disengno sun path particolari (soltizi ed equinozi)\n",
    "    color = {'2020-06-21':'tab:blue', '2020-03-20':'tab:orange', '2020-12-21':'tab:green',time.strftime('%Y-%m-%d'):'tab:red'}\n",
    "    days = {'2020-06-21':23.45, '2020-03-20':0, '2020-12-21':-23.45,time.strftime('%Y-%m-%d'):round(declination,2)}\n",
    "    for date in pd.to_datetime(list(days.keys())):\n",
    "        times = pd.date_range(date, date + pd.Timedelta('24h'), freq='1min', tz='UTC')\n",
    "        solpos = solarposition.get_solarposition(times, L, l_local)\n",
    "        solpos = solpos.loc[solpos['elevation'] >= 0, :]\n",
    "        label = date.strftime('%m-%d')\n",
    "        d = date.strftime('%Y-%m-%d')\n",
    "        ax2.plot(np.radians(solpos.azimuth + corr), solpos.zenith, label=label+f' $\\delta_s \\simeq$ {days[d]}°',c=color[d])\n",
    "\n",
    "    sun_rise_set_transit = solarposition.sun_rise_set_transit_ephem(times,L,l_local).iloc[0]\n",
    "    sunrise = sun_rise_set_transit['sunrise']\n",
    "    sunset = sun_rise_set_transit['sunset']\n",
    "\n",
    "    postext = solpos.iloc[0]\n",
    "    ax2.text(np.radians(postext['azimuth'] + corr)-0.05, postext['zenith'], sunrise.strftime('%H:%M'))\n",
    "    ax2.scatter(np.radians(postext.azimuth + corr),postext.zenith, s=40, label=None, c='red')\n",
    "    postext = solpos.iloc[-1]\n",
    "    ax2.text(np.radians(postext['azimuth'] + corr)-0.05, postext['zenith']-5, sunset.strftime('%H:%M'))\n",
    "    ax2.scatter(np.radians(postext.azimuth + corr),postext.zenith, s=40, label=None, c='red')\n",
    "    ax2.figure.legend(loc='upper left')\n",
    "\n",
    "    textstr = '\\n'.join((f'Date {time.date()} LST {time.time()}',\n",
    "        r'$Azimuth \\ a_s=%.2f °$' % (-180+azimuthl, ),\n",
    "        r'$Altitude \\ \\alpha=%.2f ° \\ (zenith \\ \\theta=%.2f °)$' % (90-zenithl,zenithl, )))\n",
    "\n",
    "    props = dict(boxstyle='round', facecolor='white', alpha=0.5)\n",
    "    ax2.figure.text(0.01, 0.15, textstr, fontsize=12,\n",
    "            verticalalignment='top', bbox=props)\n",
    "\n",
    "    ax2.set_title(f'Sun path diagram. LAT {L}° LON {l_local}°')\n",
    "    # cambio coordinate\n",
    "    theta_labels = list(np.linspace(0,180,18,endpoint=False,dtype='int'))+list(np.linspace(-180,0,18,endpoint=False,dtype='int'))\n",
    "    theta_labels = [f'{str(elem)}°' for elem in theta_labels]\n",
    "    ax2.set_theta_zero_location('S')\n",
    "    ax2.set_theta_direction(-1)\n",
    "    ax2.set_rmax(90)\n",
    "    ax2.set_rlabel_position(140)\n",
    "    ax2.set_thetagrids(np.linspace(0,360,36, endpoint=False),labels=theta_labels)\n",
    "    ax2.figure.text(0.535, 0.025, '$a_s$', fontsize=12,\n",
    "            verticalalignment='top')\n",
    "    ax2.figure.text(0.42, 0.83, r'$\\theta$', fontsize=12,\n",
    "            verticalalignment='top')\n",
    "    fig2.tight_layout()"
   ]
  },
  {
   "cell_type": "markdown",
   "id": "imposed-exploration",
   "metadata": {
    "tags": []
   },
   "source": [
    "Rev. 09/04/2021."
   ]
  }
 ],
 "metadata": {
  "kernelspec": {
   "display_name": "Python 3",
   "language": "python",
   "name": "python3"
  },
  "language_info": {
   "codemirror_mode": {
    "name": "ipython",
    "version": 3
   },
   "file_extension": ".py",
   "mimetype": "text/x-python",
   "name": "python",
   "nbconvert_exporter": "python",
   "pygments_lexer": "ipython3",
   "version": "3.8.3"
  }
 },
 "nbformat": 4,
 "nbformat_minor": 5
}
