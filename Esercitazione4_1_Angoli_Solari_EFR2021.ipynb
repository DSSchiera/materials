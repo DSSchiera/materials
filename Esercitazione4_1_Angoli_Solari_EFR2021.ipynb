{
 "cells": [
  {
   "cell_type": "code",
   "execution_count": 1,
   "id": "respective-helicopter",
   "metadata": {
    "tags": [
     "remove_input"
    ]
   },
   "outputs": [],
   "source": [
    "# Imports\n",
    "%matplotlib widget\n",
    "# %matplotlib inline\n",
    "import matplotlib.pyplot as plt\n",
    "import numpy as np\n",
    "import pandas as pd\n",
    "from pvlib import solarposition, location\n",
    "from IPython.display import display, Math, Markdown\n",
    "import ipywidgets as wds\n",
    "#plt.style.use('seaborn-whitegrid')"
   ]
  },
  {
   "cell_type": "markdown",
   "id": "international-quarter",
   "metadata": {
    "tags": []
   },
   "source": [
    "# Energetica e Fonti Rinnovabili - PoliTo DENERG\n",
    "# Esercitazione 4.1 - Angoli solari"
   ]
  },
  {
   "cell_type": "markdown",
   "id": "grand-entertainment",
   "metadata": {},
   "source": [
    "## Obiettivo di apprentimento\n",
    "- Imparare a ricavare l’ora solare in uno specifico luogo del pianeta avendo a disposizione: l’ora del luogo, le sue coordinate (latitudine e longitudine, e longitudine del meridiano di riferimento) e il giorno dell’anno.\n",
    "- Imparare a leggere una carta solare (o diagramma solare) per un dato luogo (per una certa latitudine) e a ricavare graficamente gli angoli solari azimut e altitudine solare essendo noti: il giorno dell’anno e l’ora solare. Ricavare graficamente le ore di alba e tramonto."
   ]
  },
  {
   "cell_type": "markdown",
   "id": "reverse-field",
   "metadata": {},
   "source": [
    "## Esercizi\n",
    "1. Un osservatore si trova a Torino (Latitudine L 45.00 N(+), longitudine l 7.68 E(-)) il giorno 26 Marzo 2021. Sapendo che il meridiano di riferimento per Torino è quello dell’Etna (longitudine standard lstd15.00 E(-)) e che l’orologio segna le ore 10:00, calcolare l’ora solare corrispondente. Nota bene: il 26 Marzo non è attiva l’ora legale!\n",
    "1. Viene fornito il diagramma solare di Torino (valido per la latitudine 45.00 N). Leggere tramite il diagramma quanto valgono gli angoli solari azimut e altitudine solare, ipotizzando che il giorno dell’anno sia il 26 Marzo 2021 e che l’ora solare sia quella ricavata nell’esercizio (1). Determinare anche l’ora di alba e tramonto per il 30 Marzo utilizzando il diagramma solare fornito. A partire dalle ore solari ottenute, ricavare le ore locali corrispondenti."
   ]
  },
  {
   "cell_type": "markdown",
   "id": "active-length",
   "metadata": {},
   "source": [
    "### Esercizio 1"
   ]
  },
  {
   "cell_type": "markdown",
   "id": "becoming-candy",
   "metadata": {},
   "source": [
    "#### Dati di input:"
   ]
  },
  {
   "cell_type": "code",
   "execution_count": 2,
   "id": "other-heath",
   "metadata": {
    "jupyter": {
     "source_hidden": true
    },
    "tags": [
     "remove_input"
    ]
   },
   "outputs": [
    {
     "data": {
      "text/markdown": [
       "$L$ = 45°; $l_{local}$ = -7.68°; $l_{st}$ = -15°; $ora$ = 10.0 (+ 0) h;  $n$ = 85"
      ],
      "text/plain": [
       "<IPython.core.display.Markdown object>"
      ]
     },
     "metadata": {},
     "output_type": "display_data"
    }
   ],
   "source": [
    "# Dati input\n",
    "L = 45 # Lat [°]\n",
    "l_local = -7.68 # Long [°]\n",
    "l_st = -15 # long standard [°]\n",
    "data = pd.to_datetime('2021-03-26 10:00')\n",
    "col = 0 # 1 se ora legale, altrimenti 0. Per il 2021 è dal 28 Marzo al 31 ottobre\n",
    "ora = data.hour+data.minute/60 # [h] in ore decimalidecimali\n",
    "# Dati ricavati\n",
    "n = data.dayofyear # Numero identificatico del giorno in esame rispetto all'anno\n",
    "# Output\n",
    "display(Markdown(f'$L$ = {L}°; $l_{{local}}$ = {l_local}°; $l_{{st}}$ = {l_st}°; $ora$ = {ora} (+ {col}) h;  $n$ = {n}'))"
   ]
  },
  {
   "cell_type": "markdown",
   "id": "arbitrary-packaging",
   "metadata": {},
   "source": [
    "#### Procedimento\n",
    "L'ora solare in ogni posto si riferisce al tempo preciso in cui il sole attraversa il piano nord-sud equivalente al meridiano del posto (mezzogiorno solare) dove raggiunge anche la culminazione (la massima elevazione, o altitudine). Il tempo solare differisce dall'ora di un comune orologio a causa del fuso orario del meridiano di riferimento e dall'equazione del tempo.  \n",
    "\n",
    "Per calcolare l'ora solare, o *Solar Time* $ST$, si applica l'equazione seguente:\n",
    "$$ST = LST + ET + (l_{st}-l_{local})\\cdot4 \\quad [min] \\quad (1)$$\n",
    "$LST$ è il *Local Standard Time*, cioè l'ora locale riferita al fuso orario in cui si trova l'osservatore (l'ora di orologio). Il fuso orario è una porzione longitudinale della superficie terrestre compresa tra due determinati meridiani che adotta lo stesso orario. Il fuso orario è a sua volta riferito al tempo coordinato universale o tempo civile *UTC*, il fuso orario scelto come riferimento globale (longitudine equivalente nella zona del Meridiano di Greenwich), a partire dal quale sono calcolati tutti i fusi orari del mondo. In Italia si adotta il fuso orario *Central European Time CET* corrispondente a *UTC+1* e riferito al meridiano dell'Etna (-15°). Inoltre, durante il periodo estivo vige l'ora legale, dunque sarà necessario aggiungere un'ora al *CET*. Nel caso in esame, al giorno 30 Marzo 2020 è attiva l'ora legale, per cui:"
   ]
  },
  {
   "cell_type": "code",
   "execution_count": 3,
   "id": "electric-installation",
   "metadata": {
    "jupyter": {
     "source_hidden": true
    },
    "tags": [
     "remove_input"
    ]
   },
   "outputs": [
    {
     "data": {
      "text/latex": [
       "$\\displaystyle LST = ora -0 = 10.0 \\ h = 600.0 \\min $"
      ],
      "text/plain": [
       "<IPython.core.display.Math object>"
      ]
     },
     "metadata": {},
     "output_type": "display_data"
    }
   ],
   "source": [
    "LST = (ora - col)*60\n",
    "display(Math(f'LST = ora -{col} = {ora-col} \\ h = {round(LST,2)} \\min '))"
   ]
  },
  {
   "cell_type": "markdown",
   "id": "mechanical-choice",
   "metadata": {},
   "source": [
    "L'equazione del tempo $ET$ si calcola con la seguente equazione:\n",
    "$$ET = 9.87sin(2B)-7.53cos(B)-1.5sin(B) \\quad [min] \\quad (2)$$\n",
    "$$B = 360(n-81)/364 \\quad [°] \\quad (3)$$"
   ]
  },
  {
   "cell_type": "markdown",
   "id": "natural-representative",
   "metadata": {},
   "source": [
    "L'equazione del tempo è la conseguenza dell'azione combinata tra l'inclinazione dell'asse e l'eccentricità dell'orbita della Terra attorno al Sole. Di seguito la funzione di ET:"
   ]
  },
  {
   "cell_type": "code",
   "execution_count": 4,
   "id": "senior-colombia",
   "metadata": {
    "jupyter": {
     "source_hidden": true
    },
    "tags": [
     "remove_input"
    ]
   },
   "outputs": [
    {
     "data": {
      "application/vnd.jupyter.widget-view+json": {
       "model_id": "43e6f321b9e44d5f91f9609b1ce807fe",
       "version_major": 2,
       "version_minor": 0
      },
      "text/plain": [
       "Canvas(toolbar=Toolbar(toolitems=[('Home', 'Reset original view', 'home', 'home'), ('Back', 'Back to previous …"
      ]
     },
     "metadata": {},
     "output_type": "display_data"
    }
   ],
   "source": [
    "# ET function\n",
    "nx = np.array([x for x in range(1,366)])\n",
    "Bx = (360*(nx-81)/364)*np.pi/180\n",
    "ETy = 9.87*np.sin(2*Bx)-7.53*np.cos(Bx)-1.5*np.sin(Bx)\n",
    "# declination function\n",
    "deltay = 23.45*np.sin(np.radians(360/365*(284+nx)))\n",
    "fig, ax = plt.subplots(1,1,figsize=(6, 4))\n",
    "fig.canvas.header_visible = False\n",
    "ax.plot(nx,ETy,c='g')\n",
    "ax.set_title('Equazione del Tempo')\n",
    "ax.set_xlabel('n')\n",
    "ax.set_ylabel('ET [min]')\n",
    "ax.grid('on')\n",
    "# ax[1].plot(nx,deltay, c='red')\n",
    "# ax[1].set_title('Declinazione')\n",
    "# ax[1].set_xlabel('n')\n",
    "# ax[1].set_ylabel('$\\delta_s$ [°]')"
   ]
  },
  {
   "cell_type": "markdown",
   "id": "directed-organizer",
   "metadata": {},
   "source": [
    "Una rappresentazione visiva dell'effetto dell'equazione del tempo e della declinazione terrestre è l'analemma, cioè una particolare curva geometrica a forma di otto che descrive la posizione del Sole nei diversi giorni dell'anno, alla stessa ora e nella località o meridiano (qui un esempio interattivo: https://www.geogebra.org/classic/vd3qpad8).\n",
    "\n",
    "Nel giorno in esame, usando le equazioni (2) e (3) otteniamo:"
   ]
  },
  {
   "cell_type": "code",
   "execution_count": 5,
   "id": "interested-carol",
   "metadata": {
    "tags": [
     "remove_input"
    ]
   },
   "outputs": [
    {
     "data": {
      "text/latex": [
       "$\\displaystyle B = 3.96° =>  ET = -6.26 \\ min$"
      ],
      "text/plain": [
       "<IPython.core.display.Math object>"
      ]
     },
     "metadata": {},
     "output_type": "display_data"
    }
   ],
   "source": [
    "# ET for n\n",
    "B = 360*(n-81)/364\n",
    "B_rad = B*np.pi/180\n",
    "ET = 9.87*np.sin(2*B_rad)-7.53*np.cos(B_rad)-1.5*np.sin(B_rad)\n",
    "display(Math(f'B = {round(B,2)}° =>  ET = {round(ET,2)} \\ min'))"
   ]
  },
  {
   "cell_type": "markdown",
   "id": "color-hardware",
   "metadata": {},
   "source": [
    "L'ultimo argomento dell'equazione (1) è la correzione longitudinale per tenere conto della diversa longitudine dell'osservatore rispetto al meridiano standard, e dove il fattore $4$ sono $min/°$, corrispondente a $60 \\ min$ ogni $15°$ (il tempo che impiega la terra a ruotare rispetto la distanza di due meridiani consecutivi)."
   ]
  },
  {
   "cell_type": "code",
   "execution_count": 6,
   "id": "significant-hawaiian",
   "metadata": {
    "jupyter": {
     "source_hidden": true
    },
    "tags": [
     "remove_input"
    ]
   },
   "outputs": [
    {
     "data": {
      "text/latex": [
       "$\\displaystyle (l_{st}-l_{local})\\cdot4 = -29.28 \\ min$"
      ],
      "text/plain": [
       "<IPython.core.display.Math object>"
      ]
     },
     "metadata": {},
     "output_type": "display_data"
    }
   ],
   "source": [
    "corr_long = (l_st - l_local)*4\n",
    "display(Math(f'(l_{{st}}-l_{{local}})\\cdot4 = {round(corr_long,2)} \\ min'))"
   ]
  },
  {
   "cell_type": "markdown",
   "id": "invalid-growing",
   "metadata": {},
   "source": [
    "Dunque, avendo calcolato tutti gli argomenti dell'equazione (1), facendo attenzione a riportarli tutti in minuti, possiamo calcolare l'ora solare $ST$:"
   ]
  },
  {
   "cell_type": "code",
   "execution_count": 7,
   "id": "continuous-heather",
   "metadata": {
    "jupyter": {
     "source_hidden": true
    },
    "tags": [
     "remove_input"
    ]
   },
   "outputs": [
    {
     "data": {
      "text/latex": [
       "$\\displaystyle ST = 564.46 \\min => 9.41 \\ h => 9{:}24$"
      ],
      "text/plain": [
       "<IPython.core.display.Math object>"
      ]
     },
     "metadata": {},
     "output_type": "display_data"
    }
   ],
   "source": [
    "ST = LST + ET + corr_long\n",
    "ST_h = ST/60\n",
    "ST_hour = int(ST_h)\n",
    "ST_min = int((ST_h-ST_hour)*60)\n",
    "display(Math(f'ST = {round(ST,2)} \\min => {round(ST/60,2)} \\ h => {ST_hour}{{:}}{ST_min}'))"
   ]
  },
  {
   "cell_type": "markdown",
   "id": "systematic-array",
   "metadata": {},
   "source": [
    "### Esercizio 2"
   ]
  },
  {
   "cell_type": "markdown",
   "id": "prerequisite-genome",
   "metadata": {
    "tags": []
   },
   "source": [
    "L'esercizio viene risolto utilizzando il diagramma solare fornito durante l'esercitazione."
   ]
  },
  {
   "cell_type": "markdown",
   "id": "assisted-machine",
   "metadata": {
    "tags": [
     "note"
    ]
   },
   "source": [
    "E' possibile ricostruire il diagramma solare utilizzando librerie specifiche in Python, e.g. *pvlib*. Di seguito un elaborazione del diagramma per la località e la data scelta in input. Il diagramma solare differisce da quello presentato a lezione: i) il sistema di riferimento polare ha come angolo l'azimuth 0-360° in senso orario partendo da Sud, e come raggio lo zenith piuttosto che l'altezza solare; ii) il diagramma è riferito all'orario locale $LST$ (civile, escludendo l'ora legale) e per tale ragione sono presenti gli analemmi necessari per tenere conto dell'ora solare e dunque della reale posizione del sole. Fissata l'ora $LST$, la colorbar ci aiuta ad identificare in quale punto dell'analemma ci troviamo in base al giorno dell'anno, quindi identificando esattamente la declinazione, lo zenith e l'azimuth solare."
   ]
  },
  {
   "cell_type": "code",
   "execution_count": 8,
   "id": "ongoing-mauritius",
   "metadata": {
    "jupyter": {
     "source_hidden": true
    },
    "tags": [
     "remove_input"
    ]
   },
   "outputs": [
    {
     "data": {
      "application/vnd.jupyter.widget-view+json": {
       "model_id": "a1852f5048c44fdaba6cda803e69af65",
       "version_major": 2,
       "version_minor": 0
      },
      "text/plain": [
       "Canvas(toolbar=Toolbar(toolitems=[('Home', 'Reset original view', 'home', 'home'), ('Back', 'Back to previous …"
      ]
     },
     "metadata": {},
     "output_type": "display_data"
    }
   ],
   "source": [
    "# Sun path diagram per una determinata località\n",
    "# Per semplicità, utilizzare l'ora locale (non considerando l'ora legale) senza definire la time zone (anche se siamo sempre in CET UTC+1 e CEST UTC+2 nel caso in esame)\n",
    "year = data.year\n",
    "# range di un anno\n",
    "times = pd.date_range(f'{year}-01-01 00:00:00', f'{year+1}-01-01', closed='left', freq='H', tz='UTC')\n",
    "# calcolo posizione solare\n",
    "solpos = solarposition.get_solarposition(times, L, l_local, method='ephemeris') # lo converte sempre in UTC\n",
    "# rimuovi la notte\n",
    "solpos = solpos.loc[solpos['apparent_elevation'] > 0, :]\n",
    "\n",
    "# Sun path\n",
    "fig1 = plt.figure(figsize=(12,6))\n",
    "fig1.canvas.header_visible = False\n",
    "ax1 = plt.subplot(1, 1, 1, projection='polar')\n",
    "# cambio del riferimento della coordinata theta\n",
    "corr = -180\n",
    "# Disegno analemmi\n",
    "points = ax1.scatter(np.radians(solpos.azimuth + corr), solpos.apparent_zenith,s=2, label=None, c=solpos.index.dayofyear)\n",
    "ax1.figure.colorbar(points,label='n - day of the year')\n",
    "\n",
    "# Disegno labels delle ore\n",
    "for hour in np.unique(solpos.index.hour):\n",
    "    # choose label position by the smallest radius for each hour\n",
    "    subset = solpos.loc[solpos.index.hour == hour, :]\n",
    "    r = subset.apparent_zenith\n",
    "    pos = solpos.loc[r.idxmin(), :]\n",
    "    ax1.text(np.radians(pos['azimuth'] + corr) - 0.05, pos['apparent_zenith'] - 4, str(hour))\n",
    "    \n",
    "# Disengno sun path particolari (soltizi ed equinozi)\n",
    "# Info 2021: Solstizio 21 giugno 03:32 Solstizio 21 dicembre 15:59 Equinozio 20 marzo 09:37 Equinozio 22 settembre 19:21\n",
    "days = {'2020-06-21':23.45, '2020-03-20':0, '2020-12-21':-23.45}\n",
    "for date in pd.to_datetime(list(days.keys())):\n",
    "    times = pd.date_range(date, date + pd.Timedelta('24h'), freq='5min', tz='UTC')\n",
    "    solpos = solarposition.get_solarposition(times, L, l_local)\n",
    "    solpos = solpos.loc[solpos['apparent_elevation'] > 0, :]\n",
    "    label = date.strftime('%m-%d')\n",
    "    d = date.strftime('%Y-%m-%d')\n",
    "    ax1.plot(np.radians(solpos.azimuth + corr), solpos.apparent_zenith, label=label+f' $\\delta_s \\simeq$ {days[d]}°')\n",
    "\n",
    "ax1.figure.legend(loc='upper left')\n",
    "\n",
    "ax1.set_title(f'Sun path diagram. LAT {L}° LON {l_local}°')\n",
    "# cambio coordinate\n",
    "ax1.set_theta_zero_location('S')\n",
    "ax1.set_theta_direction(-1)\n",
    "ax1.set_rmax(90)\n",
    "ax1.set_rlabel_position(200)\n",
    "fig1.tight_layout()"
   ]
  },
  {
   "cell_type": "markdown",
   "id": "positive-dress",
   "metadata": {},
   "source": [
    "Nel seguente diagramma si evidenzia la posizione del sole nel giorno e nell'ora considerata, con l'indicazione dell'ora di alba e tramonto. "
   ]
  },
  {
   "cell_type": "code",
   "execution_count": 9,
   "id": "warming-michael",
   "metadata": {
    "jupyter": {
     "source_hidden": true
    },
    "tags": [
     "remove_input"
    ]
   },
   "outputs": [
    {
     "data": {
      "application/vnd.jupyter.widget-view+json": {
       "model_id": "c587a61ae86d4479bdd06d33920caf70",
       "version_major": 2,
       "version_minor": 0
      },
      "text/plain": [
       "Canvas(toolbar=Toolbar(toolitems=[('Home', 'Reset original view', 'home', 'home'), ('Back', 'Back to previous …"
      ]
     },
     "metadata": {},
     "output_type": "display_data"
    }
   ],
   "source": [
    "# Posizione sole nel caso studio\n",
    "time = data-pd.Timedelta(hours=col) # per correggere ora legale\n",
    "\n",
    "declination = solarposition.declination_cooper69(n) * 180 / np.pi # gradi\n",
    "ETl = pd.to_timedelta(np.array(solarposition.equation_of_time_pvcdrom(n)), unit='minutes')\n",
    "solar_timel = time + ETl + pd.Timedelta(minutes=(l_st - l_local) * 4) # da verificare UTC\n",
    "\n",
    "pos = solarposition.get_solarposition(time, L, l_local, method='ephemeris')\n",
    "azimuth = pos.azimuth[0]\n",
    "zenith = pos.apparent_zenith[0]\n",
    "# print(pos.iloc[0])\n",
    "# print(ET.total_seconds() / 60)\n",
    "# print(solar_time)\n",
    "\n",
    "fig2 = plt.figure(figsize=(12,6))\n",
    "fig2.canvas.header_visible = False\n",
    "ax2 = plt.subplot(1, 1, 1, projection='polar')\n",
    "# cambio del riferimento della coordinata theta per il grafico\n",
    "corr = -180\n",
    "# Analemma per l'ora in esame \n",
    "times = pd.date_range(time,time +pd.Timedelta(days=364),freq='D', tz='UTC')\n",
    "solpos = solarposition.get_solarposition(times, L, l_local, method='ephemeris')  # lo converte in UTC\n",
    "# remove nighttime\n",
    "solpos = solpos.loc[solpos['apparent_elevation'] > 0, :]\n",
    "points = ax2.scatter(np.radians(solpos.azimuth + corr), solpos.apparent_zenith, s=2, label=None,c=np.unique(solpos.index.dayofyear))\n",
    "ax2.figure.colorbar(points, label = f'n = {n}')\n",
    "# Posizione sole\n",
    "ax2.scatter(np.radians(pos.azimuth + corr),pos.apparent_zenith, s=20, label=None, c='red')\n",
    "# Ora posizione\n",
    "r = solpos.apparent_zenith\n",
    "postext = solpos.loc[r.idxmin(), :]\n",
    "ax2.text(np.radians(postext['azimuth'] + corr)-0.05, postext['apparent_zenith']-4, time.strftime('%H:%M'))\n",
    "# Disengno sun path particolari (soltizi ed equinozi)\n",
    "color = {'2020-06-21':'tab:blue', '2020-03-20':'tab:orange', '2020-12-21':'tab:green',time.strftime('%Y-%m-%d'):'tab:red'}\n",
    "days = {'2020-06-21':23.45, '2020-03-20':0, '2020-12-21':-23.45,time.strftime('%Y-%m-%d'):round(declination,2)}\n",
    "for date in pd.to_datetime(list(days.keys())):\n",
    "    times = pd.date_range(date, date + pd.Timedelta('24h'), freq='1min', tz='UTC')\n",
    "    solpos = solarposition.get_solarposition(times, L, l_local)\n",
    "    solpos = solpos.loc[solpos['apparent_elevation'] >= 0, :]\n",
    "    label = date.strftime('%m-%d')\n",
    "    d = date.strftime('%Y-%m-%d')\n",
    "    ax2.plot(np.radians(solpos.azimuth + corr), solpos.apparent_zenith, label=label+f' $\\delta_s \\simeq$ {days[d]}°',c=color[d])\n",
    "\n",
    "sun_rise_set_transit = solarposition.sun_rise_set_transit_ephem(times,L,l_local).iloc[0]\n",
    "sunrise = sun_rise_set_transit['sunrise']\n",
    "sunset = sun_rise_set_transit['sunset']\n",
    "\n",
    "postext = solpos.iloc[0]\n",
    "ax2.text(np.radians(postext['azimuth'] + corr)-0.05, postext['apparent_zenith'], sunrise.strftime('%H:%M'))\n",
    "ax2.scatter(np.radians(postext.azimuth + corr),postext.apparent_zenith, s=20, label=None, c='red')\n",
    "postext = solpos.iloc[-1]\n",
    "ax2.text(np.radians(postext['azimuth'] + corr)-0.05, postext['apparent_zenith']-5, sunset.strftime('%H:%M'))\n",
    "ax2.scatter(np.radians(postext.azimuth + corr),postext.apparent_zenith, s=20, label=None, c='red')\n",
    "ax2.figure.legend(loc='upper left')\n",
    "\n",
    "textstr = '\\n'.join((f'Date {time.date()} LST {time.time()}',\n",
    "    r'$Azimuth \\ a_s=%.2f ° \\ (ref. \\ diagram = %.2f °)$' % (-180+azimuth,[azimuth-corr if azimuth-corr<=360 else  azimuth+corr][0], ),\n",
    "    r'$Elevation \\ \\alpha=%.2f ° \\ (zenith \\ \\theta=%.2f °)$' % (90-zenith,zenith, )))\n",
    "\n",
    "props = dict(boxstyle='round', facecolor='white', alpha=0.5)\n",
    "ax2.figure.text(0.01, 0.15, textstr, fontsize=12,\n",
    "        verticalalignment='top', bbox=props)\n",
    "\n",
    "ax2.set_title(f'Sun path diagram. LAT {L}° LON {l_local}°')\n",
    "# cambio coordinate\n",
    "ax2.set_theta_zero_location('S')\n",
    "ax2.set_theta_direction(-1)\n",
    "ax2.set_rmax(90)\n",
    "ax2.set_rlabel_position(200)\n",
    "fig2.tight_layout()"
   ]
  },
  {
   "cell_type": "markdown",
   "id": "looking-recruitment",
   "metadata": {},
   "source": [
    "> **Nota**: la libreria *pvlib* utilizza delle formulazioni più precise per il calcolo della posizione (azimuth, zenith e declinazione) del sole e dell'ora solare rispetto alle formule utilizzate in classe. Nonostante ciò, si può notare come le formule utilizzate rappresentino comunque un'ottima approssimazione."
   ]
  },
  {
   "cell_type": "code",
   "execution_count": 10,
   "id": "settled-sunday",
   "metadata": {
    "jupyter": {
     "source_hidden": true
    },
    "tags": [
     "remove_input"
    ]
   },
   "outputs": [
    {
     "name": "stdout",
     "output_type": "stream",
     "text": [
      "pvlib:\n",
      "apparent_elevation     35.306798\n",
      "elevation              35.284205\n",
      "azimuth               129.492523\n",
      "apparent_zenith        54.693202\n",
      "zenith                 54.715795\n",
      "solar_time              9.394288\n",
      "Name: 2021-03-26 10:00:00, dtype: float64\n",
      "\n",
      "Ora solare calcolata  9.41 h\n",
      "Equazione del tempo libreria  -6.26\n",
      "Equazione del tempo calcolata  -6.26\n",
      "Declinazione eq. cooper (usata in classe) 1.61 °\n",
      "Declinazione eq. spencer 1.9 °\n"
     ]
    }
   ],
   "source": [
    "print('pvlib:')\n",
    "print(pos.loc[time])\n",
    "print()\n",
    "print('Ora solare calcolata ', round(ST/60,2), 'h')\n",
    "print('Equazione del tempo libreria ',round(ETl.total_seconds()/60,2))\n",
    "print('Equazione del tempo calcolata ',round(ET,2))\n",
    "cooper = solarposition.declination_cooper69(n) * 180 / np.pi # gradi\n",
    "spencer = solarposition.declination_spencer71(n) * 180 / np.pi # gradi\n",
    "print('Declinazione eq. cooper (usata in classe)', round(cooper,2),'°')\n",
    "print('Declinazione eq. spencer', round(spencer,2),'°')"
   ]
  },
  {
   "cell_type": "code",
   "execution_count": 11,
   "id": "eligible-integral",
   "metadata": {
    "jupyter": {
     "source_hidden": true
    },
    "tags": [
     "remove_input"
    ]
   },
   "outputs": [
    {
     "data": {
      "text/markdown": [
       "> **Extra**: al seguente indirizzo (https://www.suncalc.org/#/45,7.68,18/2021.03.26/10:00/0/1) troverete un tool per visualizzare il percorso del sole (e tante altre utili informazioni) direttamente su mappa, geolocalizzato con i dati di input al notebook. "
      ],
      "text/plain": [
       "<IPython.core.display.Markdown object>"
      ]
     },
     "metadata": {},
     "output_type": "display_data"
    }
   ],
   "source": [
    "date = data.strftime('%Y.%m.%d')\n",
    "ora = data.time().strftime('%H:%M')\n",
    "url = f'https://www.suncalc.org/#/{L},{-l_local},18/{date}/{ora}/0/1'\n",
    "display(Markdown(f'> **Extra**: al seguente indirizzo ({url}) troverete un tool per visualizzare il percorso del sole (e tante altre utili informazioni) direttamente su mappa, geolocalizzato con i dati di input al notebook. '))\n"
   ]
  }
 ],
 "metadata": {
  "kernelspec": {
   "display_name": "Python 3",
   "language": "python",
   "name": "python3"
  },
  "language_info": {
   "codemirror_mode": {
    "name": "ipython",
    "version": 3
   },
   "file_extension": ".py",
   "mimetype": "text/x-python",
   "name": "python",
   "nbconvert_exporter": "python",
   "pygments_lexer": "ipython3",
   "version": "3.8.3"
  },
  "toc-autonumbering": false,
  "toc-showmarkdowntxt": true,
  "toc-showtags": true
 },
 "nbformat": 4,
 "nbformat_minor": 5
}
